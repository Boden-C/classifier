{
 "cells": [
  {
   "cell_type": "code",
   "execution_count": 1,
   "id": "999e2615",
   "metadata": {},
   "outputs": [
    {
     "name": "stdout",
     "output_type": "stream",
     "text": [
      "Loading checkpoint from src/extract/dataframe_checkpoint_20.pickle\n",
      "Loaded 19262 rows and 3 columns.\n",
      "Vulnerable samples: 3773\n",
      "Non-vulnerable samples: 15489\n"
     ]
    }
   ],
   "source": [
    "import pickle\n",
    "import random\n",
    "import pandas as pd\n",
    "from pycparser.c_ast import Node\n",
    "from src.utils import load_checkpoint\n",
    "from src.features.ast_tree import convert_ast_to_simple_tree\n",
    "\n",
    "df = load_checkpoint(\"src/extract/dataframe_checkpoint_20.pickle\")\n",
    "n_vuln = (df[\"target\"] == 1).sum()\n",
    "n_nonvuln = (df[\"target\"] == 0).sum()\n",
    "print(f\"Vulnerable samples: {n_vuln}\")\n",
    "print(f\"Non-vulnerable samples: {n_nonvuln}\")\n",
    "if len(df) == 0:\n",
    "    print(\"No samples in checkpoint.\")"
   ]
  },
  {
   "cell_type": "code",
   "execution_count": 1,
   "id": "718067f6",
   "metadata": {},
   "outputs": [
    {
     "ename": "NameError",
     "evalue": "name 'random' is not defined",
     "output_type": "error",
     "traceback": [
      "\u001b[31m---------------------------------------------------------------------------\u001b[39m",
      "\u001b[31mNameError\u001b[39m                                 Traceback (most recent call last)",
      "\u001b[36mCell\u001b[39m\u001b[36m \u001b[39m\u001b[32mIn[1]\u001b[39m\u001b[32m, line 3\u001b[39m\n\u001b[32m      1\u001b[39m \u001b[38;5;28;01mfrom\u001b[39;00m\u001b[38;5;250m \u001b[39m\u001b[34;01mpycparser\u001b[39;00m\u001b[34;01m.\u001b[39;00m\u001b[34;01mc_ast\u001b[39;00m\u001b[38;5;250m \u001b[39m\u001b[38;5;28;01mimport\u001b[39;00m FileAST\n\u001b[32m----> \u001b[39m\u001b[32m3\u001b[39m idx = \u001b[43mrandom\u001b[49m.randint(\u001b[32m0\u001b[39m, \u001b[38;5;28mlen\u001b[39m(df) - \u001b[32m1\u001b[39m)\n\u001b[32m      4\u001b[39m \u001b[38;5;28mprint\u001b[39m(\u001b[33m\"\u001b[39m\u001b[38;5;130;01m\\n\u001b[39;00m\u001b[33mRandom sample:\u001b[39m\u001b[33m\"\u001b[39m)\n\u001b[32m      5\u001b[39m \u001b[38;5;28mprint\u001b[39m(\u001b[33m\"\u001b[39m\u001b[33mx_string:\u001b[39m\u001b[38;5;130;01m\\n\u001b[39;00m\u001b[33m\"\u001b[39m, df.iloc[idx][\u001b[33m\"\u001b[39m\u001b[33mx_string\u001b[39m\u001b[33m\"\u001b[39m])\n",
      "\u001b[31mNameError\u001b[39m: name 'random' is not defined"
     ]
    }
   ],
   "source": [
    "from pycparser.c_ast import FileAST\n",
    "\n",
    "idx = random.randint(0, len(df) - 1)\n",
    "print(\"\\nRandom sample:\")\n",
    "print(\"x_string:\\n\", df.iloc[idx][\"x_string\"])\n",
    "print(\"\\nx_ast:\")\n",
    "ast:FileAST = df.iloc[idx][\"x_ast\"]\n",
    "ast.show(nodenames=True)\n",
    "tree = convert_ast_to_simple_tree(ast)\n",
    "print(tree.all_keywords())"
   ]
  }
 ],
 "metadata": {
  "kernelspec": {
   "display_name": ".venv",
   "language": "python",
   "name": "python3"
  },
  "language_info": {
   "codemirror_mode": {
    "name": "ipython",
    "version": 3
   },
   "file_extension": ".py",
   "mimetype": "text/x-python",
   "name": "python",
   "nbconvert_exporter": "python",
   "pygments_lexer": "ipython3",
   "version": "3.12.9"
  }
 },
 "nbformat": 4,
 "nbformat_minor": 5
}
